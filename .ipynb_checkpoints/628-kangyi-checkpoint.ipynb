{
 "cells": [
  {
   "cell_type": "markdown",
   "metadata": {},
   "source": [
    "<h1 style=\"text-align:center\">Body Fat Calculator </h1>\n",
    "<h4 style=\"text-align:right\">Kangyi Zhao, Xinyu Zhang, Kehui Yao </h4>\n",
    "\n",
    "\n",
    "\n",
    " \n",
    "# 1 Introduction\n",
    "\n",
    "\n",
    "## 1.1 Motivation\n",
    "<p> In the past, The most straightforward way to judge a person's fatness is to use the ratio of height to weight (BMI, weight divided by the square of the height). However, this method is easy to ignore the amount of body fat. Therefore, to judge a person's true degree of obesity, in addition to using BMI as a reference indicator, the body fat rate must be tested, so that the results will be more objective.\n",
    "\n",
    "<p> There are a lot of ways designed to test body fat rate, like body-fat scale, online body-fat calculator. We try to build a model only predicts the male, a simple, robust, accurate and precise“rule-of-thumb” method to estimate the percentage of body fat based on the 252-men data set. To make sure the simplicity of the model, we try to keep one or two variable in our model.\n",
    "\n",
    "\n",
    "## 1.2 Description of dataset\n",
    "\n",
    "\n",
    "### 1.2.1 Formula \n",
    "\n",
    "\n",
    "<p> We can get the formula for estimating the **body fat B(%)** from previous study\n",
    "\n",
    "\n",
    "\n",
    " $$Percentage of Body Fat(i.e. 100 \\times B) = \\frac{495}{D} - 450$$ $$D = Body Density (gm/cm^{3})$$ \n",
    "\n",
    "<p> We can get also get the formula for estimating **ADIPOSITY (bmi)**\n",
    "\n",
    " \n",
    "$$ADIPOSITY (bmi)= \\frac{weight (lbs) \\times 703}{height (in^{2})} - 450$$ $$ D = Body Density (gm/cm^{3})$$\n",
    "\n",
    "\n",
    "\n",
    "\n",
    "\n"
   ]
  },
  {
   "cell_type": "markdown",
   "metadata": {},
   "source": [
    "### 1.2.2 Glimpse at the dataset"
   ]
  },
  {
   "cell_type": "code",
   "execution_count": 4,
   "metadata": {},
   "outputs": [
    {
     "data": {
      "text/html": [
       "<table>\n",
       "<thead><tr><th scope=col>IDNO</th><th scope=col>BODYFAT</th><th scope=col>DENSITY</th><th scope=col>AGE</th><th scope=col>WEIGHT</th><th scope=col>HEIGHT</th><th scope=col>ADIPOSITY</th><th scope=col>NECK</th><th scope=col>CHEST</th><th scope=col>ABDOMEN</th><th scope=col>HIP</th><th scope=col>THIGH</th><th scope=col>KNEE</th><th scope=col>ANKLE</th><th scope=col>BICEPS</th><th scope=col>FOREARM</th><th scope=col>WRIST</th></tr></thead>\n",
       "<tbody>\n",
       "\t<tr><td>1     </td><td>12.6  </td><td>1.0708</td><td>23    </td><td>154.25</td><td>67.75 </td><td>23.7  </td><td>36.2  </td><td> 93.1 </td><td> 85.2 </td><td> 94.5 </td><td>59.0  </td><td>37.3  </td><td>21.9  </td><td>32.0  </td><td>27.4  </td><td>17.1  </td></tr>\n",
       "\t<tr><td>2     </td><td> 6.9  </td><td>1.0853</td><td>22    </td><td>173.25</td><td>72.25 </td><td>23.4  </td><td>38.5  </td><td> 93.6 </td><td> 83.0 </td><td> 98.7 </td><td>58.7  </td><td>37.3  </td><td>23.4  </td><td>30.5  </td><td>28.9  </td><td>18.2  </td></tr>\n",
       "\t<tr><td>3     </td><td>24.6  </td><td>1.0414</td><td>22    </td><td>154.00</td><td>66.25 </td><td>24.7  </td><td>34.0  </td><td> 95.8 </td><td> 87.9 </td><td> 99.2 </td><td>59.6  </td><td>38.9  </td><td>24.0  </td><td>28.8  </td><td>25.2  </td><td>16.6  </td></tr>\n",
       "\t<tr><td>4     </td><td>10.9  </td><td>1.0751</td><td>26    </td><td>184.75</td><td>72.25 </td><td>24.9  </td><td>37.4  </td><td>101.8 </td><td> 86.4 </td><td>101.2 </td><td>60.1  </td><td>37.3  </td><td>22.8  </td><td>32.4  </td><td>29.4  </td><td>18.2  </td></tr>\n",
       "\t<tr><td>5     </td><td>27.8  </td><td>1.0340</td><td>24    </td><td>184.25</td><td>71.25 </td><td>25.6  </td><td>34.4  </td><td> 97.3 </td><td>100.0 </td><td>101.9 </td><td>63.2  </td><td>42.2  </td><td>24.0  </td><td>32.2  </td><td>27.7  </td><td>17.7  </td></tr>\n",
       "\t<tr><td>6     </td><td>20.6  </td><td>1.0502</td><td>24    </td><td>210.25</td><td>74.75 </td><td>26.5  </td><td>39.0  </td><td>104.5 </td><td> 94.4 </td><td>107.8 </td><td>66.0  </td><td>42.0  </td><td>25.6  </td><td>35.7  </td><td>30.6  </td><td>18.8  </td></tr>\n",
       "</tbody>\n",
       "</table>\n"
      ],
      "text/latex": [
       "\\begin{tabular}{r|lllllllllllllllll}\n",
       " IDNO & BODYFAT & DENSITY & AGE & WEIGHT & HEIGHT & ADIPOSITY & NECK & CHEST & ABDOMEN & HIP & THIGH & KNEE & ANKLE & BICEPS & FOREARM & WRIST\\\\\n",
       "\\hline\n",
       "\t 1      & 12.6   & 1.0708 & 23     & 154.25 & 67.75  & 23.7   & 36.2   &  93.1  &  85.2  &  94.5  & 59.0   & 37.3   & 21.9   & 32.0   & 27.4   & 17.1  \\\\\n",
       "\t 2      &  6.9   & 1.0853 & 22     & 173.25 & 72.25  & 23.4   & 38.5   &  93.6  &  83.0  &  98.7  & 58.7   & 37.3   & 23.4   & 30.5   & 28.9   & 18.2  \\\\\n",
       "\t 3      & 24.6   & 1.0414 & 22     & 154.00 & 66.25  & 24.7   & 34.0   &  95.8  &  87.9  &  99.2  & 59.6   & 38.9   & 24.0   & 28.8   & 25.2   & 16.6  \\\\\n",
       "\t 4      & 10.9   & 1.0751 & 26     & 184.75 & 72.25  & 24.9   & 37.4   & 101.8  &  86.4  & 101.2  & 60.1   & 37.3   & 22.8   & 32.4   & 29.4   & 18.2  \\\\\n",
       "\t 5      & 27.8   & 1.0340 & 24     & 184.25 & 71.25  & 25.6   & 34.4   &  97.3  & 100.0  & 101.9  & 63.2   & 42.2   & 24.0   & 32.2   & 27.7   & 17.7  \\\\\n",
       "\t 6      & 20.6   & 1.0502 & 24     & 210.25 & 74.75  & 26.5   & 39.0   & 104.5  &  94.4  & 107.8  & 66.0   & 42.0   & 25.6   & 35.7   & 30.6   & 18.8  \\\\\n",
       "\\end{tabular}\n"
      ],
      "text/markdown": [
       "\n",
       "IDNO | BODYFAT | DENSITY | AGE | WEIGHT | HEIGHT | ADIPOSITY | NECK | CHEST | ABDOMEN | HIP | THIGH | KNEE | ANKLE | BICEPS | FOREARM | WRIST | \n",
       "|---|---|---|---|---|---|\n",
       "| 1      | 12.6   | 1.0708 | 23     | 154.25 | 67.75  | 23.7   | 36.2   |  93.1  |  85.2  |  94.5  | 59.0   | 37.3   | 21.9   | 32.0   | 27.4   | 17.1   | \n",
       "| 2      |  6.9   | 1.0853 | 22     | 173.25 | 72.25  | 23.4   | 38.5   |  93.6  |  83.0  |  98.7  | 58.7   | 37.3   | 23.4   | 30.5   | 28.9   | 18.2   | \n",
       "| 3      | 24.6   | 1.0414 | 22     | 154.00 | 66.25  | 24.7   | 34.0   |  95.8  |  87.9  |  99.2  | 59.6   | 38.9   | 24.0   | 28.8   | 25.2   | 16.6   | \n",
       "| 4      | 10.9   | 1.0751 | 26     | 184.75 | 72.25  | 24.9   | 37.4   | 101.8  |  86.4  | 101.2  | 60.1   | 37.3   | 22.8   | 32.4   | 29.4   | 18.2   | \n",
       "| 5      | 27.8   | 1.0340 | 24     | 184.25 | 71.25  | 25.6   | 34.4   |  97.3  | 100.0  | 101.9  | 63.2   | 42.2   | 24.0   | 32.2   | 27.7   | 17.7   | \n",
       "| 6      | 20.6   | 1.0502 | 24     | 210.25 | 74.75  | 26.5   | 39.0   | 104.5  |  94.4  | 107.8  | 66.0   | 42.0   | 25.6   | 35.7   | 30.6   | 18.8   | \n",
       "\n",
       "\n"
      ],
      "text/plain": [
       "  IDNO BODYFAT DENSITY AGE WEIGHT HEIGHT ADIPOSITY NECK CHEST ABDOMEN HIP  \n",
       "1 1    12.6    1.0708  23  154.25 67.75  23.7      36.2  93.1  85.2    94.5\n",
       "2 2     6.9    1.0853  22  173.25 72.25  23.4      38.5  93.6  83.0    98.7\n",
       "3 3    24.6    1.0414  22  154.00 66.25  24.7      34.0  95.8  87.9    99.2\n",
       "4 4    10.9    1.0751  26  184.75 72.25  24.9      37.4 101.8  86.4   101.2\n",
       "5 5    27.8    1.0340  24  184.25 71.25  25.6      34.4  97.3 100.0   101.9\n",
       "6 6    20.6    1.0502  24  210.25 74.75  26.5      39.0 104.5  94.4   107.8\n",
       "  THIGH KNEE ANKLE BICEPS FOREARM WRIST\n",
       "1 59.0  37.3 21.9  32.0   27.4    17.1 \n",
       "2 58.7  37.3 23.4  30.5   28.9    18.2 \n",
       "3 59.6  38.9 24.0  28.8   25.2    16.6 \n",
       "4 60.1  37.3 22.8  32.4   29.4    18.2 \n",
       "5 63.2  42.2 24.0  32.2   27.7    17.7 \n",
       "6 66.0  42.0 25.6  35.7   30.6    18.8 "
      ]
     },
     "metadata": {},
     "output_type": "display_data"
    }
   ],
   "source": [
    "setwd(\"C:/Users/ykhra/OneDrive/Desktop/study/stat628\") # set working directory\n",
    "BodyFat = read.csv(\"BodyFat.csv\") #Read data into R\n",
    "head(BodyFat) #Look at the first few data points "
   ]
  },
  {
   "cell_type": "markdown",
   "metadata": {},
   "source": [
    "We have **252** observations and **17** variables.\n",
    " \n",
    "* Response variable: Body fat\n",
    "* Predictive variables: Age(years), Weight(lbs), Height(inches), Adiposity(bmi), Neck circumference(cm), Chest circumference(cm), Abdomen circumference(cm), Hip circumference(cm), Thigh circumference(cm), Knee circumference(cm), Ankle circumference(cm), Biceps (extended) circumference(cm), Forearm circumference(cm), Wrist circumference(cm)"
   ]
  },
  {
   "cell_type": "markdown",
   "metadata": {},
   "source": [
    "# 2 Data Cleaning\n",
    "\n",
    "To begin with, we used boxplot() and summary() to have an overview of the data. The following five points stand out: 216's high bodyfat, 182's zero bodyfat, 39's large weight, and 42's short height."
   ]
  },
  {
   "cell_type": "code",
   "execution_count": 5,
   "metadata": {},
   "outputs": [
    {
     "data": {
      "text/plain": [
       "    BODYFAT          WEIGHT          HEIGHT     \n",
       " Min.   : 0.00   Min.   :118.5   Min.   :29.50  \n",
       " Max.   :45.10   Max.   :363.1   Max.   :77.75  "
      ]
     },
     "metadata": {},
     "output_type": "display_data"
    }
   ],
   "source": [
    "BodyFat = read.csv(\"BodyFat.csv\")  # Read data\n",
    "summary(BodyFat[,c(2,5,6)])[c(1,6),]  # Or boxplot "
   ]
  },
  {
   "cell_type": "markdown",
   "metadata": {},
   "source": [
    "![](plot\\\\BOXPLOT.jpeg)"
   ]
  },
  {
   "cell_type": "markdown",
   "metadata": {},
   "source": [
    "For data cleaning, we have the following three criteria:\n",
    "\n",
    "1. DO NOT impute any records of response variable, BODYFAT.\n",
    "2. Exclude records which are verified as wrong and unable to impute correctly.\n",
    "3. Exclude extreme and high influential points, for the privilege of fitting a robust and common applied model.\n",
    "4. Exclude observations parsimouniously unless they violate the 2nd & 3rd rule.\n",
    "\n",
    "\n",
    "## 2.1 Check BODYFAT using DENSITY\n",
    "\n",
    "Since BODYFAT is the response variable, the most crucial one during the whole analysis, as criterion 1 mentions, we do not impute BODYFAT. And as the following regression plot shows, BODYFAT is inversely proportional with DENSITY. And aftering detecting the following outliers one at each time: 96, 48, 76, 182, and 216, we trained the model without aforementioned outliers to predicted their BODYFAT based on DENSITY and analyzed each outliers in an order of decreasing residual, analyzing them orderly.\n",
    "\n",
    "![](plot\\\\BODYFAT_regression.jpeg)"
   ]
  },
  {
   "cell_type": "code",
   "execution_count": 14,
   "metadata": {},
   "outputs": [
    {
     "data": {
      "text/html": [
       "<table>\n",
       "<thead><tr><th></th><th scope=col>96</th><th scope=col>48</th><th scope=col>76</th><th scope=col>182</th><th scope=col>216</th></tr></thead>\n",
       "<tbody>\n",
       "\t<tr><th scope=row>Record</th><td>17.3 </td><td> 6.40</td><td>18.30</td><td> 0.00</td><td>45.1 </td></tr>\n",
       "\t<tr><th scope=row>Prediction</th><td> 1.6 </td><td>14.31</td><td>14.27</td><td>-2.08</td><td>45.1 </td></tr>\n",
       "\t<tr><th scope=row>Bias</th><td>15.7 </td><td>-7.91</td><td> 4.03</td><td> 2.08</td><td> 0.0 </td></tr>\n",
       "</tbody>\n",
       "</table>\n"
      ],
      "text/latex": [
       "\\begin{tabular}{r|lllll}\n",
       "  & 96 & 48 & 76 & 182 & 216\\\\\n",
       "\\hline\n",
       "\tRecord & 17.3  &  6.40 & 18.30 &  0.00 & 45.1 \\\\\n",
       "\tPrediction &  1.6  & 14.31 & 14.27 & -2.08 & 45.1 \\\\\n",
       "\tBias & 15.7  & -7.91 &  4.03 &  2.08 &  0.0 \\\\\n",
       "\\end{tabular}\n"
      ],
      "text/markdown": [
       "\n",
       "| <!--/--> | 96 | 48 | 76 | 182 | 216 | \n",
       "|---|---|---|\n",
       "| Record | 17.3  |  6.40 | 18.30 |  0.00 | 45.1  | \n",
       "| Prediction |  1.6  | 14.31 | 14.27 | -2.08 | 45.1  | \n",
       "| Bias | 15.7  | -7.91 |  4.03 |  2.08 |  0.0  | \n",
       "\n",
       "\n"
      ],
      "text/plain": [
       "           96   48    76    182   216 \n",
       "Record     17.3  6.40 18.30  0.00 45.1\n",
       "Prediction  1.6 14.31 14.27 -2.08 45.1\n",
       "Bias       15.7 -7.91  4.03  2.08  0.0"
      ]
     },
     "metadata": {},
     "output_type": "display_data"
    }
   ],
   "source": [
    "outlier_bodyfat <- c(96,48,76,182,216);\n",
    "train <- BodyFat[-outlier_bodyfat,];test <- BodyFat[outlier_bodyfat,]\n",
    "pre <- predict(lm(BODYFAT~I(1/DENSITY), data=train),test)\n",
    "round(rbind(Record=test$BODYFAT, Prediction=pre, Bias=test$BODYFAT-pre),2)"
   ]
  },
  {
   "cell_type": "markdown",
   "metadata": {},
   "source": [
    "**96: Keep.**  Given 96 has the largest prediction bias, we deducted that either DENSITY or BODYFAT must be recorded wrong. Compared with observations sharing similar DENSITY (172), similar BODYFAT (126), similar BODYFAT and HEIGHT(109), 96 has more significant difference with 172, thus the DENSITY must be wrong. Without further verification, the distribution of 96 seems reasonable, thus we keep 96 based on 4th criterion."
   ]
  },
  {
   "cell_type": "code",
   "execution_count": 7,
   "metadata": {},
   "outputs": [
    {
     "data": {
      "text/html": [
       "<table>\n",
       "<thead><tr><th></th><th scope=col>BODYFAT</th><th scope=col>DENSITY</th><th scope=col>WEIGHT</th><th scope=col>HEIGHT</th><th scope=col>ADIPOSITY</th><th scope=col>NECK</th><th scope=col>CHEST</th><th scope=col>ABDOMEN</th><th scope=col>HIP</th><th scope=col>THIGH</th><th scope=col>KNEE</th><th scope=col>ANKLE</th><th scope=col>BICEPS</th><th scope=col>FOREARM</th><th scope=col>WRIST</th></tr></thead>\n",
       "<tbody>\n",
       "\t<tr><th scope=row>96</th><td>17.3  </td><td>1.0991</td><td>224.50</td><td>77.75 </td><td>26.1  </td><td>41.1  </td><td>113.2 </td><td>99.2  </td><td>107.5 </td><td>61.7  </td><td>42.3  </td><td>23.2  </td><td>32.9  </td><td>30.8  </td><td>20.4  </td></tr>\n",
       "\t<tr><th scope=row>172</th><td> 1.9  </td><td>1.0983</td><td>125.75</td><td>65.50 </td><td>20.6  </td><td>34.0  </td><td> 90.8 </td><td>75.0  </td><td> 89.2 </td><td>50.0  </td><td>34.8  </td><td>22.0  </td><td>24.8  </td><td>25.9  </td><td>16.9  </td></tr>\n",
       "\t<tr><th scope=row>126</th><td>17.4  </td><td>1.0587</td><td>167.00</td><td>67.00 </td><td>26.2  </td><td>36.6  </td><td>101.0 </td><td>89.9  </td><td>100.0 </td><td>60.7  </td><td>36.0  </td><td>21.9  </td><td>35.6  </td><td>30.2  </td><td>17.6  </td></tr>\n",
       "\t<tr><th scope=row>109</th><td>17.2  </td><td>1.0593</td><td>194.00</td><td>75.50 </td><td>24.0  </td><td>38.5  </td><td>110.1 </td><td>88.7  </td><td>102.1 </td><td>57.5  </td><td>40.0  </td><td>24.8  </td><td>35.1  </td><td>30.7  </td><td>19.2  </td></tr>\n",
       "</tbody>\n",
       "</table>\n"
      ],
      "text/latex": [
       "\\begin{tabular}{r|lllllllllllllll}\n",
       "  & BODYFAT & DENSITY & WEIGHT & HEIGHT & ADIPOSITY & NECK & CHEST & ABDOMEN & HIP & THIGH & KNEE & ANKLE & BICEPS & FOREARM & WRIST\\\\\n",
       "\\hline\n",
       "\t96 & 17.3   & 1.0991 & 224.50 & 77.75  & 26.1   & 41.1   & 113.2  & 99.2   & 107.5  & 61.7   & 42.3   & 23.2   & 32.9   & 30.8   & 20.4  \\\\\n",
       "\t172 &  1.9   & 1.0983 & 125.75 & 65.50  & 20.6   & 34.0   &  90.8  & 75.0   &  89.2  & 50.0   & 34.8   & 22.0   & 24.8   & 25.9   & 16.9  \\\\\n",
       "\t126 & 17.4   & 1.0587 & 167.00 & 67.00  & 26.2   & 36.6   & 101.0  & 89.9   & 100.0  & 60.7   & 36.0   & 21.9   & 35.6   & 30.2   & 17.6  \\\\\n",
       "\t109 & 17.2   & 1.0593 & 194.00 & 75.50  & 24.0   & 38.5   & 110.1  & 88.7   & 102.1  & 57.5   & 40.0   & 24.8   & 35.1   & 30.7   & 19.2  \\\\\n",
       "\\end{tabular}\n"
      ],
      "text/markdown": [
       "\n",
       "| <!--/--> | BODYFAT | DENSITY | WEIGHT | HEIGHT | ADIPOSITY | NECK | CHEST | ABDOMEN | HIP | THIGH | KNEE | ANKLE | BICEPS | FOREARM | WRIST | \n",
       "|---|---|---|---|\n",
       "| 96 | 17.3   | 1.0991 | 224.50 | 77.75  | 26.1   | 41.1   | 113.2  | 99.2   | 107.5  | 61.7   | 42.3   | 23.2   | 32.9   | 30.8   | 20.4   | \n",
       "| 172 |  1.9   | 1.0983 | 125.75 | 65.50  | 20.6   | 34.0   |  90.8  | 75.0   |  89.2  | 50.0   | 34.8   | 22.0   | 24.8   | 25.9   | 16.9   | \n",
       "| 126 | 17.4   | 1.0587 | 167.00 | 67.00  | 26.2   | 36.6   | 101.0  | 89.9   | 100.0  | 60.7   | 36.0   | 21.9   | 35.6   | 30.2   | 17.6   | \n",
       "| 109 | 17.2   | 1.0593 | 194.00 | 75.50  | 24.0   | 38.5   | 110.1  | 88.7   | 102.1  | 57.5   | 40.0   | 24.8   | 35.1   | 30.7   | 19.2   | \n",
       "\n",
       "\n"
      ],
      "text/plain": [
       "    BODYFAT DENSITY WEIGHT HEIGHT ADIPOSITY NECK CHEST ABDOMEN HIP   THIGH KNEE\n",
       "96  17.3    1.0991  224.50 77.75  26.1      41.1 113.2 99.2    107.5 61.7  42.3\n",
       "172  1.9    1.0983  125.75 65.50  20.6      34.0  90.8 75.0     89.2 50.0  34.8\n",
       "126 17.4    1.0587  167.00 67.00  26.2      36.6 101.0 89.9    100.0 60.7  36.0\n",
       "109 17.2    1.0593  194.00 75.50  24.0      38.5 110.1 88.7    102.1 57.5  40.0\n",
       "    ANKLE BICEPS FOREARM WRIST\n",
       "96  23.2  32.9   30.8    20.4 \n",
       "172 22.0  24.8   25.9    16.9 \n",
       "126 21.9  35.6   30.2    17.6 \n",
       "109 24.8  35.1   30.7    19.2 "
      ]
     },
     "metadata": {},
     "output_type": "display_data"
    }
   ],
   "source": [
    "BodyFat[c(96, 172, 126, 109),-c(1,4)]"
   ]
  },
  {
   "cell_type": "markdown",
   "metadata": {},
   "source": [
    "![](plot\\\\96.jpeg)\n",
    "\n",
    "**48 & 76 : Delete.** \n",
    "48 and 76 have similar DENSITY, but significantly different BODYFAT. Comparing them with observations sharing similar DENSITY (146 & 90), all indexes except for BODYFAT are reasonable, for which we deducted the BODYFAT records are wrong. Though we could have estimated their BODYFAT as 14.3, as the first criterion mentioned before, we do not impute response variable. Thus, we delete 48 and 76 based on the 1st and 2nd criteria."
   ]
  },
  {
   "cell_type": "code",
   "execution_count": 8,
   "metadata": {},
   "outputs": [
    {
     "data": {
      "text/html": [
       "<table>\n",
       "<thead><tr><th></th><th scope=col>IDNO</th><th scope=col>BODYFAT</th><th scope=col>DENSITY</th><th scope=col>AGE</th><th scope=col>WEIGHT</th><th scope=col>HEIGHT</th><th scope=col>ADIPOSITY</th><th scope=col>NECK</th><th scope=col>CHEST</th><th scope=col>ABDOMEN</th><th scope=col>HIP</th><th scope=col>THIGH</th><th scope=col>KNEE</th><th scope=col>ANKLE</th><th scope=col>BICEPS</th><th scope=col>FOREARM</th><th scope=col>WRIST</th></tr></thead>\n",
       "<tbody>\n",
       "\t<tr><th scope=row>146</th><td>146   </td><td>14.4  </td><td>1.0664</td><td>24    </td><td>156.00</td><td>70.75 </td><td>21.9  </td><td>35.7  </td><td>92.7  </td><td>81.9  </td><td>95.3  </td><td>56.4  </td><td>36.5  </td><td>22.0  </td><td>33.5  </td><td>28.3  </td><td>17.3  </td></tr>\n",
       "\t<tr><th scope=row>48</th><td> 48   </td><td> 6.4  </td><td>1.0665</td><td>39    </td><td>148.50</td><td>71.25 </td><td>20.6  </td><td>34.6  </td><td>89.8  </td><td>79.5  </td><td>92.7  </td><td>52.7  </td><td>37.5  </td><td>21.9  </td><td>28.8  </td><td>26.8  </td><td>17.9  </td></tr>\n",
       "\t<tr><th scope=row>76</th><td> 76   </td><td>18.3  </td><td>1.0666</td><td>61    </td><td>148.25</td><td>67.50 </td><td>22.9  </td><td>36.0  </td><td>91.6  </td><td>81.8  </td><td>94.8  </td><td>54.5  </td><td>37.0  </td><td>21.4  </td><td>29.3  </td><td>27.0  </td><td>18.3  </td></tr>\n",
       "\t<tr><th scope=row>90</th><td> 90   </td><td>14.3  </td><td>1.0666</td><td>48    </td><td>176.00</td><td>73.00 </td><td>23.3  </td><td>36.7  </td><td>96.7  </td><td>86.5  </td><td>98.3  </td><td>60.4  </td><td>39.9  </td><td>24.4  </td><td>28.8  </td><td>29.6  </td><td>18.7  </td></tr>\n",
       "</tbody>\n",
       "</table>\n"
      ],
      "text/latex": [
       "\\begin{tabular}{r|lllllllllllllllll}\n",
       "  & IDNO & BODYFAT & DENSITY & AGE & WEIGHT & HEIGHT & ADIPOSITY & NECK & CHEST & ABDOMEN & HIP & THIGH & KNEE & ANKLE & BICEPS & FOREARM & WRIST\\\\\n",
       "\\hline\n",
       "\t146 & 146    & 14.4   & 1.0664 & 24     & 156.00 & 70.75  & 21.9   & 35.7   & 92.7   & 81.9   & 95.3   & 56.4   & 36.5   & 22.0   & 33.5   & 28.3   & 17.3  \\\\\n",
       "\t48 &  48    &  6.4   & 1.0665 & 39     & 148.50 & 71.25  & 20.6   & 34.6   & 89.8   & 79.5   & 92.7   & 52.7   & 37.5   & 21.9   & 28.8   & 26.8   & 17.9  \\\\\n",
       "\t76 &  76    & 18.3   & 1.0666 & 61     & 148.25 & 67.50  & 22.9   & 36.0   & 91.6   & 81.8   & 94.8   & 54.5   & 37.0   & 21.4   & 29.3   & 27.0   & 18.3  \\\\\n",
       "\t90 &  90    & 14.3   & 1.0666 & 48     & 176.00 & 73.00  & 23.3   & 36.7   & 96.7   & 86.5   & 98.3   & 60.4   & 39.9   & 24.4   & 28.8   & 29.6   & 18.7  \\\\\n",
       "\\end{tabular}\n"
      ],
      "text/markdown": [
       "\n",
       "| <!--/--> | IDNO | BODYFAT | DENSITY | AGE | WEIGHT | HEIGHT | ADIPOSITY | NECK | CHEST | ABDOMEN | HIP | THIGH | KNEE | ANKLE | BICEPS | FOREARM | WRIST | \n",
       "|---|---|---|---|\n",
       "| 146 | 146    | 14.4   | 1.0664 | 24     | 156.00 | 70.75  | 21.9   | 35.7   | 92.7   | 81.9   | 95.3   | 56.4   | 36.5   | 22.0   | 33.5   | 28.3   | 17.3   | \n",
       "| 48 |  48    |  6.4   | 1.0665 | 39     | 148.50 | 71.25  | 20.6   | 34.6   | 89.8   | 79.5   | 92.7   | 52.7   | 37.5   | 21.9   | 28.8   | 26.8   | 17.9   | \n",
       "| 76 |  76    | 18.3   | 1.0666 | 61     | 148.25 | 67.50  | 22.9   | 36.0   | 91.6   | 81.8   | 94.8   | 54.5   | 37.0   | 21.4   | 29.3   | 27.0   | 18.3   | \n",
       "| 90 |  90    | 14.3   | 1.0666 | 48     | 176.00 | 73.00  | 23.3   | 36.7   | 96.7   | 86.5   | 98.3   | 60.4   | 39.9   | 24.4   | 28.8   | 29.6   | 18.7   | \n",
       "\n",
       "\n"
      ],
      "text/plain": [
       "    IDNO BODYFAT DENSITY AGE WEIGHT HEIGHT ADIPOSITY NECK CHEST ABDOMEN HIP \n",
       "146 146  14.4    1.0664  24  156.00 70.75  21.9      35.7 92.7  81.9    95.3\n",
       "48   48   6.4    1.0665  39  148.50 71.25  20.6      34.6 89.8  79.5    92.7\n",
       "76   76  18.3    1.0666  61  148.25 67.50  22.9      36.0 91.6  81.8    94.8\n",
       "90   90  14.3    1.0666  48  176.00 73.00  23.3      36.7 96.7  86.5    98.3\n",
       "    THIGH KNEE ANKLE BICEPS FOREARM WRIST\n",
       "146 56.4  36.5 22.0  33.5   28.3    17.3 \n",
       "48  52.7  37.5 21.9  28.8   26.8    17.9 \n",
       "76  54.5  37.0 21.4  29.3   27.0    18.3 \n",
       "90  60.4  39.9 24.4  28.8   29.6    18.7 "
      ]
     },
     "metadata": {},
     "output_type": "display_data"
    }
   ],
   "source": [
    "BodyFat[order(BodyFat$DENSITY)[173:176],]"
   ]
  },
  {
   "cell_type": "markdown",
   "metadata": {},
   "source": [
    "**182 & 216: Delete.** As the following figure shows, red points refer to 182, purple points refer to 216. Though 182 and 216 have not too large predition bias, their extreme BODYFAT, WEIGHT, and other indxes indicate their distributions are rather extreme and uncommon. It is unreasonable for a human to have zero or negative BODYFAT like 182, and it is also rare for people to have such serious overweight phenomenon. Thus, based on the 3rd criterion, we sacrifice the information provided by 182 and 216, for the privilege of fitting a more robust and accurate model for most people. "
   ]
  },
  {
   "cell_type": "markdown",
   "metadata": {},
   "source": [
    "![](plot\\\\182_216.jpeg)"
   ]
  },
  {
   "cell_type": "markdown",
   "metadata": {},
   "source": [
    "## 2.2 Check HEIGHT & WEIGHT with ADIPOSITY\n",
    "\n",
    "As the formula for ADIPOSITY with HEIGHT and WEIGHT introduced before, we identified and corrected outliers for WEIGHT and HEIGHT based on ADIPOSITY. Using similar approach as the last section, we  obtained a similar list of outliers with decreasing residuals: 39, 42, 163, and 221. Besides, 42 is an extreme high influential point as the following plot shows.\n",
    "![](plot\\\\BMI_regression.jpeg\")"
   ]
  },
  {
   "cell_type": "code",
   "execution_count": 9,
   "metadata": {},
   "outputs": [
    {
     "data": {
      "text/html": [
       "<table>\n",
       "<thead><tr><th></th><th scope=col>39</th><th scope=col>42</th><th scope=col>163</th><th scope=col>221</th></tr></thead>\n",
       "<tbody>\n",
       "\t<tr><th scope=row>Record</th><td>48.90 </td><td> 29.90</td><td>24.40 </td><td>24.50 </td></tr>\n",
       "\t<tr><th scope=row>Prediction</th><td>48.91 </td><td>165.47</td><td>27.44 </td><td>21.72 </td></tr>\n",
       "\t<tr><th scope=row>Bias</th><td> 0.01 </td><td>135.57</td><td> 3.04 </td><td>-2.78 </td></tr>\n",
       "</tbody>\n",
       "</table>\n"
      ],
      "text/latex": [
       "\\begin{tabular}{r|llll}\n",
       "  & 39 & 42 & 163 & 221\\\\\n",
       "\\hline\n",
       "\tRecord & 48.90  &  29.90 & 24.40  & 24.50 \\\\\n",
       "\tPrediction & 48.91  & 165.47 & 27.44  & 21.72 \\\\\n",
       "\tBias &  0.01  & 135.57 &  3.04  & -2.78 \\\\\n",
       "\\end{tabular}\n"
      ],
      "text/markdown": [
       "\n",
       "| <!--/--> | 39 | 42 | 163 | 221 | \n",
       "|---|---|---|\n",
       "| Record | 48.90  |  29.90 | 24.40  | 24.50  | \n",
       "| Prediction | 48.91  | 165.47 | 27.44  | 21.72  | \n",
       "| Bias |  0.01  | 135.57 |  3.04  | -2.78  | \n",
       "\n",
       "\n"
      ],
      "text/plain": [
       "           39    42     163   221  \n",
       "Record     48.90  29.90 24.40 24.50\n",
       "Prediction 48.91 165.47 27.44 21.72\n",
       "Bias        0.01 135.57  3.04 -2.78"
      ]
     },
     "metadata": {},
     "output_type": "display_data"
    }
   ],
   "source": [
    "outlier_adiposity <- c(39,42,163,221);\n",
    "train <- BodyFat[-outlier_adiposity,];test <- BodyFat[outlier_adiposity,]\n",
    "pre <- predict(lm(ADIPOSITY~I(WEIGHT/(HEIGHT)^2), data=train),test)\n",
    "round(rbind(Record=test$ADIPOSITY, Prediction=pre, Bias=pre-test$ADIPOSITY ),2)"
   ]
  },
  {
   "cell_type": "markdown",
   "metadata": {},
   "source": [
    "**39: Delete.** Though the records are correct based on the prediction result for 39, his highest values on the ten variables as printed indicate this person as extreme overweight. Recalling our 3rd criterion, we exclude this point from consideration a more robust model."
   ]
  },
  {
   "cell_type": "code",
   "execution_count": 10,
   "metadata": {},
   "outputs": [
    {
     "data": {
      "text/html": [
       "<ol class=list-inline>\n",
       "\t<li>'WEIGHT'</li>\n",
       "\t<li>'ADIPOSITY'</li>\n",
       "\t<li>'NECK'</li>\n",
       "\t<li>'CHEST'</li>\n",
       "\t<li>'ABDOMEN'</li>\n",
       "\t<li>'HIP'</li>\n",
       "\t<li>'THIGH'</li>\n",
       "\t<li>'KNEE'</li>\n",
       "\t<li>'BICEPS'</li>\n",
       "\t<li>'WRIST'</li>\n",
       "</ol>\n"
      ],
      "text/latex": [
       "\\begin{enumerate*}\n",
       "\\item 'WEIGHT'\n",
       "\\item 'ADIPOSITY'\n",
       "\\item 'NECK'\n",
       "\\item 'CHEST'\n",
       "\\item 'ABDOMEN'\n",
       "\\item 'HIP'\n",
       "\\item 'THIGH'\n",
       "\\item 'KNEE'\n",
       "\\item 'BICEPS'\n",
       "\\item 'WRIST'\n",
       "\\end{enumerate*}\n"
      ],
      "text/markdown": [
       "1. 'WEIGHT'\n",
       "2. 'ADIPOSITY'\n",
       "3. 'NECK'\n",
       "4. 'CHEST'\n",
       "5. 'ABDOMEN'\n",
       "6. 'HIP'\n",
       "7. 'THIGH'\n",
       "8. 'KNEE'\n",
       "9. 'BICEPS'\n",
       "10. 'WRIST'\n",
       "\n",
       "\n"
      ],
      "text/plain": [
       " [1] \"WEIGHT\"    \"ADIPOSITY\" \"NECK\"      \"CHEST\"     \"ABDOMEN\"   \"HIP\"      \n",
       " [7] \"THIGH\"     \"KNEE\"      \"BICEPS\"    \"WRIST\"    "
      ]
     },
     "metadata": {},
     "output_type": "display_data"
    }
   ],
   "source": [
    "max<-c()\n",
    "for (i in 1:17) { if( max(BodyFat[,i]) == BodyFat[39,i]) {  max <- cbind(max, i)  } }\n",
    "names(BodyFat)[max]"
   ]
  },
  {
   "cell_type": "markdown",
   "metadata": {},
   "source": [
    "**42：Impute HEIGHT.**\n",
    "42 is the significant high influential point, and his records on HEIGHT is unreasonable as 29.50 inches. The imputed HEIGHT is 69.48, which is reasonable, however, considering the minimum precision for HEIGHT is 0.25 inch, we corrected the 42's HEIGHT into 69.50 inches. "
   ]
  },
  {
   "cell_type": "code",
   "execution_count": 15,
   "metadata": {},
   "outputs": [
    {
     "data": {
      "text/html": [
       "<table>\n",
       "<thead><tr><th></th><th scope=col>Record</th><th scope=col>Prediction</th><th scope=col>Imputation</th></tr></thead>\n",
       "<tbody>\n",
       "\t<tr><th scope=row>42</th><td>29.5 </td><td>69.48</td><td>69.5 </td></tr>\n",
       "</tbody>\n",
       "</table>\n"
      ],
      "text/latex": [
       "\\begin{tabular}{r|lll}\n",
       "  & Record & Prediction & Imputation\\\\\n",
       "\\hline\n",
       "\t42 & 29.5  & 69.48 & 69.5 \\\\\n",
       "\\end{tabular}\n"
      ],
      "text/markdown": [
       "\n",
       "| <!--/--> | Record | Prediction | Imputation | \n",
       "|---|\n",
       "| 42 | 29.5  | 69.48 | 69.5  | \n",
       "\n",
       "\n"
      ],
      "text/plain": [
       "   Record Prediction Imputation\n",
       "42 29.5   69.48      69.5      "
      ]
     },
     "metadata": {},
     "output_type": "display_data"
    }
   ],
   "source": [
    "train <- BodyFat[-outlier_adiposity,];test <- BodyFat[42,]\n",
    "pre <- sqrt( predict(lm(I((HEIGHT)^2)~I(WEIGHT/ADIPOSITY), data=train),test) )\n",
    "round(cbind(Record=test$HEIGHT, Prediction=pre, Imputation=69.50),2)"
   ]
  },
  {
   "cell_type": "markdown",
   "metadata": {},
   "source": [
    "**Delete 163 and 221.**\n",
    "By listing 163 & 221 and their neighborhoods with similar BODYFAT, 163's WEIGHT should have been smaller and HEIGHT should have been larger while 221 in an inverse direction. It is unable to impute WEIGHT and HEIGHT simultaneously when they are both incorrect. Thus, given their records must be wrong and are unable to be imputed, we exclude 163 & 221 from consideration."
   ]
  },
  {
   "cell_type": "code",
   "execution_count": 13,
   "metadata": {},
   "outputs": [
    {
     "data": {
      "text/html": [
       "<table>\n",
       "<thead><tr><th></th><th scope=col>BODYFAT</th><th scope=col>DENSITY</th><th scope=col>WEIGHT</th><th scope=col>HEIGHT</th><th scope=col>ADIPOSITY</th><th scope=col>NECK</th><th scope=col>CHEST</th><th scope=col>ABDOMEN</th><th scope=col>HIP</th><th scope=col>THIGH</th><th scope=col>KNEE</th><th scope=col>ANKLE</th><th scope=col>BICEPS</th><th scope=col>FOREARM</th><th scope=col>WRIST</th></tr></thead>\n",
       "<tbody>\n",
       "\t<tr><th scope=row>70</th><td>13.2  </td><td>1.0693</td><td>156.75</td><td>71.50 </td><td>21.6  </td><td>36.3  </td><td>94.4  </td><td>84.6  </td><td> 94.3 </td><td>51.2  </td><td>37.4  </td><td>21.6  </td><td>27.3  </td><td>27.1  </td><td>17.3  </td></tr>\n",
       "\t<tr><th scope=row>163</th><td>13.3  </td><td>1.0690</td><td>184.25</td><td>68.75 </td><td>24.4  </td><td>40.7  </td><td>98.9  </td><td>92.1  </td><td>103.5 </td><td>64.0  </td><td>37.3  </td><td>23.5  </td><td>33.5  </td><td>30.6  </td><td>19.7  </td></tr>\n",
       "\t<tr><th scope=row>33</th><td>13.4  </td><td>1.0719</td><td>168.00</td><td>71.25 </td><td>23.3  </td><td>38.1  </td><td>93.0  </td><td>79.1  </td><td> 94.5 </td><td>57.3  </td><td>36.2  </td><td>24.5  </td><td>29.0  </td><td>30.0  </td><td>18.8  </td></tr>\n",
       "</tbody>\n",
       "</table>\n"
      ],
      "text/latex": [
       "\\begin{tabular}{r|lllllllllllllll}\n",
       "  & BODYFAT & DENSITY & WEIGHT & HEIGHT & ADIPOSITY & NECK & CHEST & ABDOMEN & HIP & THIGH & KNEE & ANKLE & BICEPS & FOREARM & WRIST\\\\\n",
       "\\hline\n",
       "\t70 & 13.2   & 1.0693 & 156.75 & 71.50  & 21.6   & 36.3   & 94.4   & 84.6   &  94.3  & 51.2   & 37.4   & 21.6   & 27.3   & 27.1   & 17.3  \\\\\n",
       "\t163 & 13.3   & 1.0690 & 184.25 & 68.75  & 24.4   & 40.7   & 98.9   & 92.1   & 103.5  & 64.0   & 37.3   & 23.5   & 33.5   & 30.6   & 19.7  \\\\\n",
       "\t33 & 13.4   & 1.0719 & 168.00 & 71.25  & 23.3   & 38.1   & 93.0   & 79.1   &  94.5  & 57.3   & 36.2   & 24.5   & 29.0   & 30.0   & 18.8  \\\\\n",
       "\\end{tabular}\n"
      ],
      "text/markdown": [
       "\n",
       "| <!--/--> | BODYFAT | DENSITY | WEIGHT | HEIGHT | ADIPOSITY | NECK | CHEST | ABDOMEN | HIP | THIGH | KNEE | ANKLE | BICEPS | FOREARM | WRIST | \n",
       "|---|---|---|\n",
       "| 70 | 13.2   | 1.0693 | 156.75 | 71.50  | 21.6   | 36.3   | 94.4   | 84.6   |  94.3  | 51.2   | 37.4   | 21.6   | 27.3   | 27.1   | 17.3   | \n",
       "| 163 | 13.3   | 1.0690 | 184.25 | 68.75  | 24.4   | 40.7   | 98.9   | 92.1   | 103.5  | 64.0   | 37.3   | 23.5   | 33.5   | 30.6   | 19.7   | \n",
       "| 33 | 13.4   | 1.0719 | 168.00 | 71.25  | 23.3   | 38.1   | 93.0   | 79.1   |  94.5  | 57.3   | 36.2   | 24.5   | 29.0   | 30.0   | 18.8   | \n",
       "\n",
       "\n"
      ],
      "text/plain": [
       "    BODYFAT DENSITY WEIGHT HEIGHT ADIPOSITY NECK CHEST ABDOMEN HIP   THIGH KNEE\n",
       "70  13.2    1.0693  156.75 71.50  21.6      36.3 94.4  84.6     94.3 51.2  37.4\n",
       "163 13.3    1.0690  184.25 68.75  24.4      40.7 98.9  92.1    103.5 64.0  37.3\n",
       "33  13.4    1.0719  168.00 71.25  23.3      38.1 93.0  79.1     94.5 57.3  36.2\n",
       "    ANKLE BICEPS FOREARM WRIST\n",
       "70  21.6  27.3   27.1    17.3 \n",
       "163 23.5  33.5   30.6    19.7 \n",
       "33  24.5  29.0   30.0    18.8 "
      ]
     },
     "metadata": {},
     "output_type": "display_data"
    },
    {
     "data": {
      "text/html": [
       "<table>\n",
       "<thead><tr><th></th><th scope=col>BODYFAT</th><th scope=col>DENSITY</th><th scope=col>WEIGHT</th><th scope=col>HEIGHT</th><th scope=col>ADIPOSITY</th><th scope=col>NECK</th><th scope=col>CHEST</th><th scope=col>ABDOMEN</th><th scope=col>HIP</th><th scope=col>THIGH</th><th scope=col>KNEE</th><th scope=col>ANKLE</th><th scope=col>BICEPS</th><th scope=col>FOREARM</th><th scope=col>WRIST</th></tr></thead>\n",
       "<tbody>\n",
       "\t<tr><th scope=row>1</th><td>12.6  </td><td>1.0708</td><td>154.25</td><td>67.75 </td><td>23.7  </td><td>36.2  </td><td>93.1  </td><td>85.2  </td><td>94.5  </td><td>59.0  </td><td>37.3  </td><td>21.9  </td><td>32.0  </td><td>27.4  </td><td>17.1  </td></tr>\n",
       "\t<tr><th scope=row>221</th><td>12.7  </td><td>1.0706</td><td>153.25</td><td>70.50 </td><td>24.5  </td><td>38.5  </td><td>99.0  </td><td>91.8  </td><td>96.2  </td><td>57.7  </td><td>38.1  </td><td>23.9  </td><td>31.4  </td><td>29.9  </td><td>18.9  </td></tr>\n",
       "\t<tr><th scope=row>239</th><td>12.7  </td><td>1.0705</td><td>155.25</td><td>69.50 </td><td>22.6  </td><td>37.9  </td><td>95.8  </td><td>82.8  </td><td>94.5  </td><td>61.2  </td><td>39.1  </td><td>22.3  </td><td>29.8  </td><td>28.9  </td><td>18.3  </td></tr>\n",
       "</tbody>\n",
       "</table>\n"
      ],
      "text/latex": [
       "\\begin{tabular}{r|lllllllllllllll}\n",
       "  & BODYFAT & DENSITY & WEIGHT & HEIGHT & ADIPOSITY & NECK & CHEST & ABDOMEN & HIP & THIGH & KNEE & ANKLE & BICEPS & FOREARM & WRIST\\\\\n",
       "\\hline\n",
       "\t1 & 12.6   & 1.0708 & 154.25 & 67.75  & 23.7   & 36.2   & 93.1   & 85.2   & 94.5   & 59.0   & 37.3   & 21.9   & 32.0   & 27.4   & 17.1  \\\\\n",
       "\t221 & 12.7   & 1.0706 & 153.25 & 70.50  & 24.5   & 38.5   & 99.0   & 91.8   & 96.2   & 57.7   & 38.1   & 23.9   & 31.4   & 29.9   & 18.9  \\\\\n",
       "\t239 & 12.7   & 1.0705 & 155.25 & 69.50  & 22.6   & 37.9   & 95.8   & 82.8   & 94.5   & 61.2   & 39.1   & 22.3   & 29.8   & 28.9   & 18.3  \\\\\n",
       "\\end{tabular}\n"
      ],
      "text/markdown": [
       "\n",
       "| <!--/--> | BODYFAT | DENSITY | WEIGHT | HEIGHT | ADIPOSITY | NECK | CHEST | ABDOMEN | HIP | THIGH | KNEE | ANKLE | BICEPS | FOREARM | WRIST | \n",
       "|---|---|---|\n",
       "| 1 | 12.6   | 1.0708 | 154.25 | 67.75  | 23.7   | 36.2   | 93.1   | 85.2   | 94.5   | 59.0   | 37.3   | 21.9   | 32.0   | 27.4   | 17.1   | \n",
       "| 221 | 12.7   | 1.0706 | 153.25 | 70.50  | 24.5   | 38.5   | 99.0   | 91.8   | 96.2   | 57.7   | 38.1   | 23.9   | 31.4   | 29.9   | 18.9   | \n",
       "| 239 | 12.7   | 1.0705 | 155.25 | 69.50  | 22.6   | 37.9   | 95.8   | 82.8   | 94.5   | 61.2   | 39.1   | 22.3   | 29.8   | 28.9   | 18.3   | \n",
       "\n",
       "\n"
      ],
      "text/plain": [
       "    BODYFAT DENSITY WEIGHT HEIGHT ADIPOSITY NECK CHEST ABDOMEN HIP  THIGH KNEE\n",
       "1   12.6    1.0708  154.25 67.75  23.7      36.2 93.1  85.2    94.5 59.0  37.3\n",
       "221 12.7    1.0706  153.25 70.50  24.5      38.5 99.0  91.8    96.2 57.7  38.1\n",
       "239 12.7    1.0705  155.25 69.50  22.6      37.9 95.8  82.8    94.5 61.2  39.1\n",
       "    ANKLE BICEPS FOREARM WRIST\n",
       "1   21.9  32.0   27.4    17.1 \n",
       "221 23.9  31.4   29.9    18.9 \n",
       "239 22.3  29.8   28.9    18.3 "
      ]
     },
     "metadata": {},
     "output_type": "display_data"
    }
   ],
   "source": [
    "BodyFat[order(BodyFat$BODYFAT),][c(65:67),-c(1,4)]\n",
    "BodyFat[order(BodyFat$BODYFAT),][c(59:61),-c(1,4)]"
   ]
  },
  {
   "cell_type": "markdown",
   "metadata": {},
   "source": [
    "## 2.3 Data cleaning summary\n",
    " \n",
    "<dl>\n",
    "In conclusion, for data cleaning. We exclude seven points, 39, 48, 76, 163, 182, 216, and 221, and impute the 42's HEIGHT.\n",
    "<dt>Extreme Values:\n",
    "<dd>   \n",
    "    \n",
    "1. WEIGHT: Delete 39.\n",
    "    \n",
    "2. BODYFAT: Delete 182 and 216.\n",
    "    \n",
    "<dt>Incorrect Records:\n",
    "<dd>   \n",
    "    \n",
    "1. BODYFAT: Delete 48 and 76.\n",
    "\n",
    "2. WEIGHT & HEIGHT: Delete 163 and 221.</dd>\n",
    "\n",
    "<dt>Imputed Value:\n",
    "<dd>   \n",
    "    \n",
    " 1. HEIGHT: 42.</dd>\n",
    "</dl>\n"
   ]
  },
  {
   "cell_type": "markdown",
   "metadata": {},
   "source": [
    "# 3 Variable Selection and Statistical Modeling\n",
    "\n",
    "## 3.1 Tendency of variables\n",
    "\n",
    "![](plot\\\\all_regression.jpeg)\n",
    "\n",
    "As we can see in this Figure, all the variables show the linear tendency, and some variable might have multicollinearity, so we try Lasso regression at first, we also use the Mallow's Cp, BIC forward and backward to select the variable.\n",
    "\n",
    "## 3.2 Vaiable and Model Selection\n",
    "\n",
    "| Method | ABDOMEN | WRIST | HEIGHT | WEIGHT | AGE |  R-squard|\n",
    "|------|------|------|------|------|------|------|\n",
    "| Lasso-1 | 0.50 | 0 | 0 | 0 | 0 | 0.641 |\n",
    "|Lasso-2 | 0.55 | 0 | -0.18 | 0 | 0 | 0.671 |\n",
    "|Lasso-4 | 0.65 | -1.14 | -0.25 | 0 | 0.03 | 0.717 |\n",
    "|Lasso-all| - | - | - | - | - | 0.739\n",
    "| Mallow's Cp-2 | 0.72 | -2.05| 0| 0|0|0.704|\n",
    "| Mallow's Cp-7 | -|-|-|-|-|0.730\n",
    "| BIC forward-3 | 0.87 | -1.34 | 0 | -0.08 | 0 | **0.72**|\n",
    "| BIC forward-2 | 0.89 | 0 | 0 | -0.12 | 0| **0.707** |\n",
    "| BIC backward-3| 0.71|-2.18|0|0|0.07|0.717|\n",
    "\n",
    "From the table, all the selected variables are reasonable   \n",
    "ABDOMEN: a direct reflection of body fat  \n",
    "WRIST and HEIGHT: an indicator of body frame  \n",
    "WEIGHT: refect body fat and muscle proportion\n",
    "\n",
    "\n",
    "### 3.2.1 **Lasso regression**  \n",
    "\n",
    "As we can see in this form, we can not see the significant increase after we select **ABDOMEN** and the increase becomes much smaller after keeping the first four variables. All the model is reasonable. In Lasso-2, ABDOMEN is an indicator of body fat and HEIGHT is an indicator of the body frame. Usually, the man with larger body frame has the bigger abdomen, it also takes body frame into account. Apart from that, HEIGHT is a variable which can be easily obtained, because usually everyone knows their HEIGHT. In Lasso-4, WRIST and AGE also be considered as a factor as well.\n",
    "\n",
    "\n",
    "### 3.2.2 **Mallow's Cp**\n",
    "\n",
    "Mallow's Cp select 7 variables, the R-square is 0.73. for simplicity, we only select the most significant 2 variables, **ABDOMEN** and **WRIST**, which has the same explanation of Lasso-2. \n",
    "\n",
    "**BIC**\n",
    "\n",
    "We use BIC forward and backward to select the variable when compared with AIC, BIC usually tends to keep the most significant variable. Then, we try the combination of the 3 variable, because we try to keep less variable.\n",
    "\n",
    "## 3.3 Model summary \n",
    "\n",
    "**Model**  \n",
    "\n",
    "We use R-square to select the model, BIC foIn BIC forward-2, the ABDOMEN and WEIGHT have a negative coefficient. In this Figure, we can see the person in the left side has a big  WEIGHT, admittedly, his WEIGHT is also big, but the density of muscle is larger than the density of fat, with the large body fat instead of muscle, the increase of weight is small compared with increase of ABDOMEN. We can get a big body fat of this person. For the person on the right side, the ABDOMEN is not small, because ABDOMEN almost contains muscle. As a result, the increase in weight is bigger than the increase of ABDOMEN, we can get a small body fat of this person.rward-3 \n",
    "\n",
    "**Explanation** \n",
    "\n",
    "![](plot\\\\explanation.png\")\n",
    "\n",
    "In BIC forward-2, the ABDOMEN and WEIGHT have a negative coefficient. In this Figure, we can see the person in the left side has a big  WEIGHT, admittedly, his WEIGHT is also big, but the density of muscle is larger than the density of fat, with the large body fat instead of muscle, the increase of weight is small compared with the increase of ABDOMEN. We can get a big body fat of this person. For the person on the right side, the ABDOMEN is not small, because ABDOMEN almost contains muscle. As a result, the increase in weight is bigger than the increase of ABDOMEN, we can get a small body fat of this person.\n",
    "\n",
    "## 3.4 Model diagnostics\n",
    "\n",
    "After model fitting, We diagnose the Model assumptions with a residual plot and a QQ plot.\n",
    "\n",
    "![](plot\\\\Qqplot.jpeg)\n",
    "\n",
    "There is no absolute pattern in the residual plot which means that the model can achieve the assumption of linearity.  \n",
    "In the QQ-plot, there is almost a line, so the assumption of normality also can be satisfied."
   ]
  },
  {
   "cell_type": "markdown",
   "metadata": {},
   "source": [
    "# 4 Conclusion\n",
    "\n",
    "Our Proposed model,\n",
    "<center>Percentage of Body Fat =  -41.3481 (Constant)  +0.9151 ABDOMEN (cm)  -0.1365 WEIGHT (lbs)\n",
    "    </center>\n",
    "    \n",
    "**Possible rule of thumb**: \"multiply your abdomen by 0.9 , subtract your weight by 0.1 and subtract 41\n",
    "\n",
    "**<center>Percentage of Body Fat =  -41 (Constant)  +0.9 ABDOMEN (cm)  -0.1 WEIGHT (lbs)\n",
    "    </center>**\n",
    "    \n",
    "This rule of thumb is close to our estimated model by constructing 95% confidence intervals of the slope and the intercept.\n",
    "\n",
    "\n",
    "\n",
    "## 4.1 Disadvantage\n",
    "\n",
    "1. Accuracy: In a trade off between simplicity and high accuracy, we prefer the former one. Thus, we delete the confirmed outliers for response variable instead of imputing them and didn't include all variables contributing to the highest accuracy.\n",
    "\n",
    "## 4.2 Advantage\n",
    "\n",
    "1. Straightforward: Aiming at building a simple model, our final model is easy to interpret, remember, and apply into daily life.\n",
    "2. Robustness: Based on information from various kinds of models, the final model is made more accurate and robust.\n",
    "\n",
    "\n",
    "\n",
    "1. Abdomen, weight can explain the badyfat of men partly.\n",
    "\n",
    "2. Linear model perform well in the bodyfat database.\n",
    "\n",
    "\n",
    "\n",
    "# 5 Contribution\n",
    "Kangyi Zhao: Build the Lasso and Mallow's Cp prediction models; contribute to the report Introduction, and summary the report.\n",
    "\n",
    "Xinyu Zhang: Clear up the code and our images; contribute to outlier and AIC,BIC prediction models of the report.\n",
    "\n",
    "Kehui Yao: Make the tidy ggplot images; contribute to the presentation slides and Shiny app."
   ]
  }
 ],
 "metadata": {
  "kernelspec": {
   "display_name": "R",
   "language": "R",
   "name": "ir"
  },
  "language_info": {
   "codemirror_mode": "r",
   "file_extension": ".r",
   "mimetype": "text/x-r-source",
   "name": "R",
   "pygments_lexer": "r",
   "version": "3.5.1"
  },
  "widgets": {
   "state": {},
   "version": "1.1.2"
  }
 },
 "nbformat": 4,
 "nbformat_minor": 2
}
